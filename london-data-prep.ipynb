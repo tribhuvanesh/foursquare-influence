{
 "metadata": {
  "name": "",
  "signature": "sha256:ec2f86d608733113de1b9b8c3876e42c07e0f749f91e517bbbe0990d7ed1d895"
 },
 "nbformat": 3,
 "nbformat_minor": 0,
 "worksheets": [
  {
   "cells": [
    {
     "cell_type": "code",
     "collapsed": false,
     "input": [
      "fu = open('users-london.csv', 'r')"
     ],
     "language": "python",
     "metadata": {},
     "outputs": [],
     "prompt_number": 23
    },
    {
     "cell_type": "code",
     "collapsed": false,
     "input": [
      "fout = open('users-london-renum.txt', 'w')"
     ],
     "language": "python",
     "metadata": {},
     "outputs": [],
     "prompt_number": 24
    },
    {
     "cell_type": "code",
     "collapsed": false,
     "input": [
      "idmap = {}"
     ],
     "language": "python",
     "metadata": {},
     "outputs": [],
     "prompt_number": 25
    },
    {
     "cell_type": "code",
     "collapsed": false,
     "input": [
      "newid = 0"
     ],
     "language": "python",
     "metadata": {},
     "outputs": [],
     "prompt_number": 26
    },
    {
     "cell_type": "code",
     "collapsed": false,
     "input": [
      "for line in fu:\n",
      "    uid, uname = map(int, line[:-1].split(','))\n",
      "    idmap[uid] = newid\n",
      "    fout.write('%d,%d\\n' % (newid, newid))\n",
      "    newid += 1"
     ],
     "language": "python",
     "metadata": {},
     "outputs": [],
     "prompt_number": 27
    },
    {
     "cell_type": "code",
     "collapsed": false,
     "input": [
      "fu.close()\n",
      "fout.close()"
     ],
     "language": "python",
     "metadata": {},
     "outputs": [],
     "prompt_number": 28
    },
    {
     "cell_type": "heading",
     "level": 4,
     "metadata": {},
     "source": [
      "# Filter friendships present in SF, write only renumbered friendship relations"
     ]
    },
    {
     "cell_type": "code",
     "collapsed": false,
     "input": [
      "ffr = open('FoursquareFriendship.csv', 'r')"
     ],
     "language": "python",
     "metadata": {},
     "outputs": [],
     "prompt_number": 13
    },
    {
     "cell_type": "code",
     "collapsed": false,
     "input": [
      "ffr.readline() # Skip header"
     ],
     "language": "python",
     "metadata": {},
     "outputs": [
      {
       "metadata": {},
       "output_type": "pyout",
       "prompt_number": 14,
       "text": [
        "'user1,user2\\r\\n'"
       ]
      }
     ],
     "prompt_number": 14
    },
    {
     "cell_type": "code",
     "collapsed": false,
     "input": [
      "ffrnew = open('FoursquareFriendship-london.csv', 'w')"
     ],
     "language": "python",
     "metadata": {},
     "outputs": [],
     "prompt_number": 15
    },
    {
     "cell_type": "code",
     "collapsed": false,
     "input": [
      "org_uids = set(idmap.keys())\n",
      "for line in ffr:\n",
      "    u1, u2 = map(int, line[:-2].split(','))\n",
      "    if u1 in org_uids and u2 in org_uids:\n",
      "        ffrnew.write('%d,%d\\n' % (idmap[u1], idmap[u2]))"
     ],
     "language": "python",
     "metadata": {},
     "outputs": [],
     "prompt_number": 16
    },
    {
     "cell_type": "code",
     "collapsed": false,
     "input": [
      "ffr.close()\n",
      "ffrnew.close()"
     ],
     "language": "python",
     "metadata": {},
     "outputs": [],
     "prompt_number": 17
    },
    {
     "cell_type": "heading",
     "level": 4,
     "metadata": {},
     "source": [
      "# Rewrite cascades with renumbered user IDs"
     ]
    },
    {
     "cell_type": "code",
     "collapsed": false,
     "input": [
      "fcheck = open('FoursquareCheckins20110101-20111231_near_london.csv', 'r')"
     ],
     "language": "python",
     "metadata": {},
     "outputs": [],
     "prompt_number": 18
    },
    {
     "cell_type": "code",
     "collapsed": false,
     "input": [
      "fcheck_new = open('london/FoursquareCheckins20110101-20111231_near_london-renum.csv', 'w')"
     ],
     "language": "python",
     "metadata": {},
     "outputs": [],
     "prompt_number": 19
    },
    {
     "cell_type": "code",
     "collapsed": false,
     "input": [
      "fcheck_new.write(fcheck.readline()) # Rewrite header"
     ],
     "language": "python",
     "metadata": {},
     "outputs": [],
     "prompt_number": 20
    },
    {
     "cell_type": "code",
     "collapsed": false,
     "input": [
      "for line in fcheck:\n",
      "    us, lat, lng, tm, loc = line[:-1].split(',')\n",
      "    fcheck_new.write('%d,%s,%s,%s,%s\\n' % (idmap[int(us)], lat, lng, tm, loc))"
     ],
     "language": "python",
     "metadata": {},
     "outputs": [],
     "prompt_number": 21
    },
    {
     "cell_type": "code",
     "collapsed": false,
     "input": [
      "fcheck.close()\n",
      "fcheck_new.close()"
     ],
     "language": "python",
     "metadata": {},
     "outputs": [],
     "prompt_number": 22
    },
    {
     "cell_type": "code",
     "collapsed": false,
     "input": [],
     "language": "python",
     "metadata": {},
     "outputs": []
    }
   ],
   "metadata": {}
  }
 ]
}