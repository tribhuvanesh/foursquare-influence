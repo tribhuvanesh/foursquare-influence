{
 "metadata": {
  "name": "",
  "signature": "sha256:6db768964fcd907588262e6cf65d68e136d08fccd61596759714c06e4c86677e"
 },
 "nbformat": 3,
 "nbformat_minor": 0,
 "worksheets": [
  {
   "cells": [
    {
     "cell_type": "code",
     "collapsed": false,
     "input": [
      "import networkx as nx"
     ],
     "language": "python",
     "metadata": {},
     "outputs": [],
     "prompt_number": 11
    },
    {
     "cell_type": "code",
     "collapsed": false,
     "input": [
      "import matplotlib.pyplot as plt"
     ],
     "language": "python",
     "metadata": {},
     "outputs": [],
     "prompt_number": 12
    },
    {
     "cell_type": "code",
     "collapsed": false,
     "input": [
      "import random"
     ],
     "language": "python",
     "metadata": {},
     "outputs": [],
     "prompt_number": 13
    },
    {
     "cell_type": "code",
     "collapsed": false,
     "input": [
      "import numpy as np"
     ],
     "language": "python",
     "metadata": {},
     "outputs": [],
     "prompt_number": 14
    },
    {
     "cell_type": "code",
     "collapsed": false,
     "input": [
      "from collections import deque"
     ],
     "language": "python",
     "metadata": {},
     "outputs": [],
     "prompt_number": 15
    },
    {
     "cell_type": "code",
     "collapsed": false,
     "input": [
      "NUM_CASCADES = 500"
     ],
     "language": "python",
     "metadata": {},
     "outputs": [],
     "prompt_number": 36
    },
    {
     "cell_type": "code",
     "collapsed": false,
     "input": [
      "WALK_LEN = 2"
     ],
     "language": "python",
     "metadata": {},
     "outputs": [],
     "prompt_number": 37
    },
    {
     "cell_type": "code",
     "collapsed": false,
     "input": [
      "TIME_LIMIT = 350"
     ],
     "language": "python",
     "metadata": {},
     "outputs": [],
     "prompt_number": 18
    },
    {
     "cell_type": "code",
     "collapsed": false,
     "input": [
      "#fname_friendship = 'FoursquareFriendship-zurich.csv'\n",
      "fname_friendship = ''\n",
      "fname_cascades = 'synthetic/synth-cascades-6/synth-cascades-6.txt'\n",
      "#fname_friendship_weights = fname_friendship.split('.')[0] + '-with-weights.csv'\n",
      "fname_friendship_weights = 'fig2-with-weights.csv'"
     ],
     "language": "python",
     "metadata": {},
     "outputs": [],
     "prompt_number": 44
    },
    {
     "cell_type": "code",
     "collapsed": false,
     "input": [
      "ffr = open(fname_friendship, 'r')"
     ],
     "language": "python",
     "metadata": {},
     "outputs": [],
     "prompt_number": 23
    },
    {
     "cell_type": "code",
     "collapsed": false,
     "input": [
      "fout = open(fname_cascades, 'w')\n",
      "fout_ffr = open(fname_friendship_weights, 'w')"
     ],
     "language": "python",
     "metadata": {},
     "outputs": [],
     "prompt_number": 45
    },
    {
     "cell_type": "code",
     "collapsed": false,
     "input": [
      "added_nodes = set()"
     ],
     "language": "python",
     "metadata": {},
     "outputs": [],
     "prompt_number": 40
    },
    {
     "cell_type": "code",
     "collapsed": false,
     "input": [
      "G = nx.DiGraph()"
     ],
     "language": "python",
     "metadata": {},
     "outputs": [],
     "prompt_number": 41
    },
    {
     "cell_type": "code",
     "collapsed": false,
     "input": [
      "for line in ffr:\n",
      "    try:\n",
      "        u1, u2 = map(int, line[:-1].split(','))\n",
      "        for u in [u1, u2]:\n",
      "            if u not in added_nodes:\n",
      "                added_nodes.add(u)\n",
      "                G.add_node(u)\n",
      "        G.add_edge(u1, u2, weight=np.random.uniform(0.01, 1))\n",
      "    except ValueError:\n",
      "        print line"
     ],
     "language": "python",
     "metadata": {},
     "outputs": [],
     "prompt_number": 28
    },
    {
     "cell_type": "code",
     "collapsed": false,
     "input": [
      "for source, target, d in G.edges(data=True):\n",
      "    fout_ffr.write('%d,%d,%f\\n' % (source, target, d['weight']))\n",
      "fout_ffr.close()"
     ],
     "language": "python",
     "metadata": {},
     "outputs": [],
     "prompt_number": 47
    },
    {
     "cell_type": "code",
     "collapsed": false,
     "input": [
      "nx.draw(G)"
     ],
     "language": "python",
     "metadata": {},
     "outputs": [],
     "prompt_number": 30
    },
    {
     "cell_type": "code",
     "collapsed": false,
     "input": [
      "plt.show()"
     ],
     "language": "python",
     "metadata": {},
     "outputs": [],
     "prompt_number": 31
    },
    {
     "cell_type": "code",
     "collapsed": false,
     "input": [
      "pos = nx.spring_layout(G)\n",
      "nx.draw_networkx_edges(G, pos)\n",
      "edge_labels = dict([((u, v,), d['weight']) for u, v, d in G.edges(data=True)])\n",
      "nx.draw_networkx_labels(G, pos, edge_labels=edge_labels)\n",
      "plt.show()"
     ],
     "language": "python",
     "metadata": {},
     "outputs": [],
     "prompt_number": 48
    },
    {
     "cell_type": "code",
     "collapsed": false,
     "input": [
      "G = nx.read_gexf(\"synthetic/synth-cascades-zurich-fig2/synth-cascades-zurich-fig2.gexf\", node_type=int)\n",
      "added_nodes = set(G.nodes())"
     ],
     "language": "python",
     "metadata": {},
     "outputs": [],
     "prompt_number": 46
    },
    {
     "cell_type": "code",
     "collapsed": false,
     "input": [
      "# Write all the nodes to cascades file\n",
      "for uid in sorted(list(added_nodes)):\n",
      "    fout.write(\"%d,%d\\n\" % (uid, uid))\n",
      "fout.write(\"\\n\")"
     ],
     "language": "python",
     "metadata": {},
     "outputs": [],
     "prompt_number": 49
    },
    {
     "cell_type": "code",
     "collapsed": false,
     "input": [
      "for i in range(NUM_CASCADES):\n",
      "    fout.write(\"%d;\" % i)\n",
      "    # Pick a random node and start a random walk of length walk_len, with memory\n",
      "    start_node = random.sample(added_nodes, 1)[0]\n",
      "    visited_nodes = set([start_node])\n",
      "    start_time = 1 #random.randint(0, 300)\n",
      "    frontier_nodes = deque([(start_node, None, start_time, 0), ])\n",
      "    cur_node = start_node\n",
      "    cur_time = start_time\n",
      "    visit_str = \"\"\n",
      "    while len(frontier_nodes) > 0:\n",
      "        cur_node, cur_node_parent, cur_time, depth = frontier_nodes.popleft()\n",
      "        if depth > WALK_LEN or cur_time > TIME_LIMIT:\n",
      "            continue\n",
      "        try:\n",
      "            print cur_node, cur_time, depth, G[cur_node_parent][cur_node]['weight']\n",
      "        except KeyError:\n",
      "            pass\n",
      "        visit_str += \"%d,%d,\" % (cur_node, cur_time)\n",
      "        cur_neighbours = set(G.neighbors(cur_node))\n",
      "        visited_nodes.add(cur_node)        \n",
      "        try:\n",
      "            nodes_to_infect = cur_neighbours - visited_nodes\n",
      "            for node in nodes_to_infect:\n",
      "                trans_rate = G[cur_node][node]['weight']\n",
      "                # For exponential model, solving f(t_i | t_j; alpha_ji) = 1 = alpha_ji * exp(...)\n",
      "                # In the line below, Second term's domain = [0.01, 1.00], range = [0, -350]\n",
      "                # TODO Maybe remove the regularization factor?\n",
      "                # next_time = cur_time - (np.log(trans_rate)/trans_rate) * (-350*0.01/np.log(0.01))\n",
      "                next_time = cur_time + np.random.exponential(1/trans_rate)\n",
      "                frontier_nodes.append( (node, cur_node, np.ceil(next_time), depth+1) )\n",
      "        except ValueError:\n",
      "            pass\n",
      "    fout.write(visit_str[:-1] + \"\\n\")"
     ],
     "language": "python",
     "metadata": {},
     "outputs": []
    },
    {
     "cell_type": "code",
     "collapsed": false,
     "input": [
      "'''\n",
      "for i in range(NUM_CASCADES):\n",
      "    fout.write(\"%d;\" % i)\n",
      "    # Pick a random node and start a random walk of length walk_len, with memory\n",
      "    start_node = random.sample(added_nodes, 1)[0]\n",
      "    visited_nodes = set([start_node])\n",
      "    start_time = random.randint(0, 300)\n",
      "    cur_node = start_node\n",
      "    cur_time = start_time\n",
      "    visit_str = \"\"\n",
      "    for j in range(WALK_LEN):\n",
      "        print cur_node, \"->\",\n",
      "        visit_str += \"%d,%d,\" % (cur_node, cur_time)\n",
      "        # Pick a random unvisited neighbour\n",
      "        cur_neighbours = set(G.neighbors(cur_node))\n",
      "        visited_nodes.add(cur_node)        \n",
      "        try:\n",
      "            next_node = random.sample(cur_neighbours-visited_nodes, 1)[0]\n",
      "            cur_node = next_node\n",
      "            cur_time += 1\n",
      "        except ValueError:\n",
      "            break # End the walk. No more unvisited nodes to traverse\n",
      "    fout.write(visit_str[:-1] + \"\\n\")\n",
      "    print \"END\"\n",
      "'''"
     ],
     "language": "python",
     "metadata": {},
     "outputs": []
    },
    {
     "cell_type": "code",
     "collapsed": false,
     "input": [
      "fout.close()"
     ],
     "language": "python",
     "metadata": {},
     "outputs": [],
     "prompt_number": 52
    },
    {
     "cell_type": "code",
     "collapsed": false,
     "input": [
      "for u, v, d in G.edges(data=True):\n",
      "    print u, v, d['weight']"
     ],
     "language": "python",
     "metadata": {},
     "outputs": [
      {
       "output_type": "stream",
       "stream": "stdout",
       "text": [
        "2 8 0.77\n",
        "2 1 1.87\n",
        "3 9 1.07\n",
        "3 4 0.44\n",
        "4 5 1.4\n",
        "4 6 1.82\n",
        "5 3 0.11\n",
        "7 9 1.51\n",
        "7 5 1.86\n",
        "8 10 0.19\n",
        "8 12 1.31\n",
        "9 2 0.27\n",
        "9 6 0.92\n",
        "9 7 1.18\n",
        "10 8 0.19\n",
        "10 9 0.1\n",
        "10 22 1.36\n",
        "12 18 0.14\n",
        "12 11 0.77\n",
        "12 13 0.02\n",
        "14 10 0.83\n",
        "15 16 0.07\n",
        "15 9 1.04\n",
        "17 15 1.37\n",
        "18 3 1.69\n",
        "18 22 1.05\n",
        "19 20 1.34\n",
        "19 13 1.06\n",
        "21 18 1.52\n",
        "23 22 0.84\n"
       ]
      }
     ],
     "prompt_number": 10
    },
    {
     "cell_type": "code",
     "collapsed": false,
     "input": [],
     "language": "python",
     "metadata": {},
     "outputs": []
    }
   ],
   "metadata": {}
  }
 ]
}