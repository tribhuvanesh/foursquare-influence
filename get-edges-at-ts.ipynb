{
 "metadata": {
  "name": "",
  "signature": "sha256:29ab8068ebb9604c585cc23e6234503f10617ac5fd026682e774e7723d7f99b5"
 },
 "nbformat": 3,
 "nbformat_minor": 0,
 "worksheets": [
  {
   "cells": [
    {
     "cell_type": "code",
     "collapsed": false,
     "input": [
      "from collections import defaultdict"
     ],
     "language": "python",
     "metadata": {},
     "outputs": [],
     "prompt_number": 2
    },
    {
     "cell_type": "code",
     "collapsed": false,
     "input": [
      "infopath_output_file = \"data/synth-zurich/output-wl10-tl5/output-wl10-tl5.txt\"\n",
      "timesteps_file = \"data/synth-zurich/output-wl10-tl5/output-wl10-tl5-time-steps.txt\"\n",
      "ts_to_gen_values = [11,]\n",
      "contains_nodes = True"
     ],
     "language": "python",
     "metadata": {},
     "outputs": [],
     "prompt_number": 31
    },
    {
     "cell_type": "code",
     "collapsed": false,
     "input": [
      "f_infopath = open(infopath_output_file, 'r')\n",
      "f_timesteps = open(timesteps_file, 'r')"
     ],
     "language": "python",
     "metadata": {},
     "outputs": [],
     "prompt_number": 32
    },
    {
     "cell_type": "code",
     "collapsed": false,
     "input": [
      "if contains_nodes:\n",
      "    flag = True\n",
      "    while flag:\n",
      "        # Keep reading lines till a new line is encountered\n",
      "        for line in f_infopath:\n",
      "            if ',' not in line or line == '\\n':\n",
      "                flag = False\n",
      "                break"
     ],
     "language": "python",
     "metadata": {},
     "outputs": [],
     "prompt_number": 33
    },
    {
     "cell_type": "code",
     "collapsed": false,
     "input": [
      "timesteps = map(lambda x: float(x.strip()), f_timesteps.readlines())\n",
      "first_ts = timesteps[0]\n",
      "last_ts = timesteps[-1]"
     ],
     "language": "python",
     "metadata": {},
     "outputs": [],
     "prompt_number": 34
    },
    {
     "cell_type": "code",
     "collapsed": false,
     "input": [
      "ts_to_edges_dct = defaultdict(list)\n",
      "\n",
      "for line in f_infopath:\n",
      "    vals = map(float, line.split(','))\n",
      "    source, target = map(int, vals[0:2])\n",
      "    # Obtain a list of pairs <timestamp, weight>\n",
      "    edge_weights = [(int(vals[i]), float(vals[i+1])) for i in range(2, len(vals)-1, 2)]\n",
      "\n",
      "    for ts, weight in edge_weights:\n",
      "        if weight != 0.00:\n",
      "            ts_to_edges_dct[ts] += [(source, target, weight), ]"
     ],
     "language": "python",
     "metadata": {},
     "outputs": [],
     "prompt_number": 35
    },
    {
     "cell_type": "code",
     "collapsed": false,
     "input": [
      "for ts_to_gen in ts_to_gen_values:\n",
      "    out_file = \"%s-at-%d.txt\" % (infopath_output_file.split('.')[0], ts_to_gen)\n",
      "    f_out = open(out_file, 'w')\n",
      "    for edge in sorted(ts_to_edges_dct[ts_to_gen], key=lambda x:x[0]):\n",
      "        source, target, weight = edge\n",
      "        f_out.write('%d,%d,%f\\n' % (source, target, weight))\n",
      "    f_out.close()"
     ],
     "language": "python",
     "metadata": {},
     "outputs": [],
     "prompt_number": 36
    },
    {
     "cell_type": "code",
     "collapsed": false,
     "input": [
      "f_infopath.close()\n",
      "f_timesteps.close()"
     ],
     "language": "python",
     "metadata": {},
     "outputs": [],
     "prompt_number": 37
    },
    {
     "cell_type": "code",
     "collapsed": false,
     "input": [
      "out_file"
     ],
     "language": "python",
     "metadata": {},
     "outputs": [
      {
       "metadata": {},
       "output_type": "pyout",
       "prompt_number": 38,
       "text": [
        "'data/synth-zurich/output-wl10-tl5/output-wl10-tl5-at-11.txt'"
       ]
      }
     ],
     "prompt_number": 38
    },
    {
     "cell_type": "code",
     "collapsed": false,
     "input": [],
     "language": "python",
     "metadata": {},
     "outputs": []
    }
   ],
   "metadata": {}
  }
 ]
}