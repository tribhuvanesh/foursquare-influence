{
 "metadata": {
  "name": "",
  "signature": "sha256:01fae6fcf7794efab2410eac6cdbe8a457bdaa95305568024df9feb8d636a938"
 },
 "nbformat": 3,
 "nbformat_minor": 0,
 "worksheets": [
  {
   "cells": [
    {
     "cell_type": "code",
     "collapsed": false,
     "input": [
      "fin = open('synthetic/synth-cascades-7/only_zurich_friendship.out', 'r')\n",
      "fout = open('synthetic/synth-cascades-7/synth-cascades-7.txt', 'w')"
     ],
     "language": "python",
     "metadata": {},
     "outputs": [],
     "prompt_number": 13
    },
    {
     "cell_type": "code",
     "collapsed": false,
     "input": [
      "nodenum = 1"
     ],
     "language": "python",
     "metadata": {},
     "outputs": [],
     "prompt_number": 14
    },
    {
     "cell_type": "code",
     "collapsed": false,
     "input": [
      "node_mapping = {}"
     ],
     "language": "python",
     "metadata": {},
     "outputs": [],
     "prompt_number": 3
    },
    {
     "cell_type": "code",
     "collapsed": false,
     "input": [
      "for line in fin:\n",
      "    u1, u2 = map(int, line[:-1].split(','))\n",
      "    for u in [u1, u2]:\n",
      "        if u not in node_mapping.keys():\n",
      "            node_mapping[u] = nodenum\n",
      "            nodenum += 1\n",
      "    fout.write('%d,%d\\n' % (node_mapping[u1], node_mapping[u2]))"
     ],
     "language": "python",
     "metadata": {},
     "outputs": [],
     "prompt_number": 15
    },
    {
     "cell_type": "code",
     "collapsed": false,
     "input": [
      "fin.close()\n",
      "fout.close()"
     ],
     "language": "python",
     "metadata": {},
     "outputs": [],
     "prompt_number": 16
    },
    {
     "cell_type": "code",
     "collapsed": false,
     "input": [],
     "language": "python",
     "metadata": {},
     "outputs": [],
     "prompt_number": 16
    },
    {
     "cell_type": "code",
     "collapsed": false,
     "input": [
      "fg = open('synthetic/synth-cascades-7/ground_truth.txt')\n",
      "fgo = open('synthetic/synth-cascades-7/ground_truth_fixed.txt', 'w')"
     ],
     "language": "python",
     "metadata": {},
     "outputs": [],
     "prompt_number": 17
    },
    {
     "cell_type": "code",
     "collapsed": false,
     "input": [
      "for line in fg:\n",
      "    source, target, weight = line[:-1].split()\n",
      "    fgo.write('%d,%d,%s\\n' % (node_mapping[int(source)], node_mapping[int(target)], weight))"
     ],
     "language": "python",
     "metadata": {},
     "outputs": [],
     "prompt_number": 18
    },
    {
     "cell_type": "code",
     "collapsed": false,
     "input": [
      "fg.close()\n",
      "fgo.close()"
     ],
     "language": "python",
     "metadata": {},
     "outputs": [],
     "prompt_number": 19
    },
    {
     "cell_type": "code",
     "collapsed": false,
     "input": [],
     "language": "python",
     "metadata": {},
     "outputs": []
    }
   ],
   "metadata": {}
  }
 ]
}