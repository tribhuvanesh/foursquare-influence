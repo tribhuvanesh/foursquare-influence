{
 "metadata": {
  "name": "",
  "signature": "sha256:00cb4ccaa6b565dd892b853de74c9f2f9996052d0fc4407453078fdc50cfb7a9"
 },
 "nbformat": 3,
 "nbformat_minor": 0,
 "worksheets": [
  {
   "cells": [
    {
     "cell_type": "code",
     "collapsed": false,
     "input": [
      "import networkx as nx"
     ],
     "language": "python",
     "metadata": {},
     "outputs": []
    },
    {
     "cell_type": "code",
     "collapsed": false,
     "input": [
      "import matplotlib\n",
      "import matplotlib.pyplot as plt"
     ],
     "language": "python",
     "metadata": {},
     "outputs": []
    },
    {
     "cell_type": "code",
     "collapsed": false,
     "input": [
      "from collections import defaultdict"
     ],
     "language": "python",
     "metadata": {},
     "outputs": []
    },
    {
     "cell_type": "code",
     "collapsed": false,
     "input": [
      "import numpy as np"
     ],
     "language": "python",
     "metadata": {},
     "outputs": []
    },
    {
     "cell_type": "code",
     "collapsed": false,
     "input": [
      "import scipy.stats"
     ],
     "language": "python",
     "metadata": {},
     "outputs": []
    },
    {
     "cell_type": "code",
     "collapsed": false,
     "input": [
      "SOCIAL_GRAPH_FILENAME = 'data/london/ground-truth.txt'\n",
      "CASCADE_FILENAME = 'data/london/cascades-london-renum.txt'\n",
      "INFOPATH_FORMAT = True\n",
      "TITLE = 'London [REAL]'\n",
      "fig_name = 'london-real'"
     ],
     "language": "python",
     "metadata": {},
     "outputs": []
    },
    {
     "cell_type": "code",
     "collapsed": false,
     "input": [
      "added_nodes = set()\n",
      "G = nx.DiGraph()"
     ],
     "language": "python",
     "metadata": {},
     "outputs": []
    },
    {
     "cell_type": "code",
     "collapsed": false,
     "input": [
      "with open(SOCIAL_GRAPH_FILENAME, 'r') as f:\n",
      "        for line in f:\n",
      "            try:\n",
      "                u1, u2, alpha = line[:-1].split(',')\n",
      "                u1, u2 = map(int, [u1, u2])\n",
      "                alpha = float(alpha)\n",
      "                for u in [u1, u2]:\n",
      "                    if u not in added_nodes:\n",
      "                        added_nodes.add(u)\n",
      "                        G.add_node(u)\n",
      "                G.add_edge(u1, u2, weight=alpha)\n",
      "            except ValueError:\n",
      "                print line"
     ],
     "language": "python",
     "metadata": {},
     "outputs": []
    },
    {
     "cell_type": "code",
     "collapsed": false,
     "input": [
      "# nx.draw(G)\n",
      "# plt.show()"
     ],
     "language": "python",
     "metadata": {},
     "outputs": []
    },
    {
     "cell_type": "code",
     "collapsed": false,
     "input": [
      "# Maps (node_i, node_j) -> [delay1, delay2, ...]\n",
      "delay_dict = defaultdict(list)\n",
      "delay_dict_false = defaultdict(list)"
     ],
     "language": "python",
     "metadata": {},
     "outputs": []
    },
    {
     "cell_type": "code",
     "collapsed": false,
     "input": [
      "with open(CASCADE_FILENAME, 'r') as f:\n",
      "    for line in f:\n",
      "        if line == '\\n': break\n",
      "            \n",
      "    for line in f:\n",
      "        cascade_str = []\n",
      "        if INFOPATH_FORMAT:\n",
      "            cascade_str = line.split(';')[-1]\n",
      "        else:\n",
      "            cascade_str = line\n",
      "        cascade_lst = map(int, cascade_str.split(','))\n",
      "        cascade = [(cascade_lst[i], cascade_lst[i+1]) for i in range(0, len(cascade_lst)-1, 2)]\n",
      "        cascade.sort(key=lambda x: x[1]) # Sort by the time of the checkin\n",
      "        for i in range(1, len(cascade)-1):\n",
      "            node_i = cascade[i][0]\n",
      "            neigh_of_i = G.neighbors(node_i)\n",
      "            for j in range(i, len(cascade)):\n",
      "                # If (i, j) is an edge in the graph, append delay\n",
      "                node_j = cascade[j][0]\n",
      "                if node_j in neigh_of_i:\n",
      "                    delay_dict[(node_i, node_j)].append(cascade[j][1] - cascade[i][1])\n",
      "                else:\n",
      "                    delay_dict_false[(node_i, node_j)].append(cascade[j][1] - cascade[i][1])"
     ],
     "language": "python",
     "metadata": {},
     "outputs": []
    },
    {
     "cell_type": "code",
     "collapsed": false,
     "input": [
      "interarrival_ordered_keys_list = sorted(delay_dict.keys(), key=lambda x: len(delay_dict[x]), reverse=True)\n",
      "#interarrival_false_ordered_keys_list = sorted(delay_dict_false.keys(), key=lambda x: len(delay_dict[x]), reverse=True)"
     ],
     "language": "python",
     "metadata": {},
     "outputs": []
    },
    {
     "cell_type": "code",
     "collapsed": false,
     "input": [
      "print len(delay_dict_false.keys())\n",
      "print len(delay_dict.keys())"
     ],
     "language": "python",
     "metadata": {},
     "outputs": []
    },
    {
     "cell_type": "code",
     "collapsed": false,
     "input": [
      "trans_len_list = [len(x) for x in delay_dict.values()]\n",
      "trans_len_list_false = [len(x) for x in delay_dict_false.values()]\n",
      "fig = plt.figure()\n",
      "plt.gca().set_position((.1, .3, .8, .6))\n",
      "plt.hist(trans_len_list)\n",
      "plt.grid()\n",
      "\n",
      "plt.legend()\n",
      "# plt.ylabel(\"PDF\")\n",
      "plt.xlabel(\"Number of transmissions over edges\")\n",
      "plt.suptitle(\"Histogram for number of transmissions over true edges\\n%s\" % TITLE)\n",
      "trans_text = '''\n",
      "Mean number of transmissions over true edges: %.4f\n",
      "Median number of transmissions over true edges: %.4f\n",
      "Mean number of transmissions over false edges: %.4f\n",
      "Median number of transmissions over false edges: %.4f\n",
      "Number of true edges = %d\n",
      "Number of false edges = %d\n",
      "''' % (np.mean(trans_len_list), \n",
      "       np.median(trans_len_list), \n",
      "       np.mean(trans_len_list_false), \n",
      "       np.median(trans_len_list_false),\n",
      "       len(delay_dict.keys()),\n",
      "       len(delay_dict_false.keys()))\n",
      "fig.text(0.1, 0.000001, trans_text)\n",
      "\n",
      "plt.savefig('/home/tribhu/Dropbox/Development/ETH/pml/graphs/%s-transmissions.png' % (fig_name))\n",
      "plt.show()\n",
      "\n",
      "#print 'Mean number of transmissions over true edges: ', np.mean(trans_len_list)\n",
      "#print 'Median number of transmissions over true edges: ', np.median(trans_len_list)\n",
      "#print 'Mean number of transmissions over false edges: ', np.mean(trans_len_list_false)\n",
      "#print 'Median number of transmissions over false edges: ', np.median(trans_len_list_false)"
     ],
     "language": "python",
     "metadata": {},
     "outputs": []
    },
    {
     "cell_type": "code",
     "collapsed": false,
     "input": [
      "# xbins = range(0,400)\n",
      "x = np.linspace(0, 300, 100)"
     ],
     "language": "python",
     "metadata": {},
     "outputs": []
    },
    {
     "cell_type": "code",
     "collapsed": false,
     "input": [
      "n1, n2 = interarrival_ordered_keys_list[5]\n",
      "lambda_ = G[n1][n2]['weight']\n",
      "print lambda_"
     ],
     "language": "python",
     "metadata": {},
     "outputs": []
    },
    {
     "cell_type": "code",
     "collapsed": false,
     "input": [
      "colors = matplotlib.rcParams['axes.color_cycle']\n",
      "expo = scipy.stats.expon\n",
      "plt.plot(x, expo.pdf(x, scale=lambda_), lw=2, color=colors[2], label = \"$\\\\alpha_{i,j} = %.3f$\"%lambda_)\n",
      "plt.fill_between(x, expo.pdf(x, scale=lambda_), color=colors[2], alpha = .33)\n",
      "\n",
      "fig = plt.hist(delay_dict[(n1, n2)], bins=range(0,400), normed=True)\n",
      "\n",
      "plt.grid()\n",
      "\n",
      "plt.legend()\n",
      "plt.ylabel(\"PDF\")\n",
      "plt.xlabel(\"Inter-infection time (in Days)\")\n",
      "plt.suptitle(\"Inter-infection time across edges for a fixed transmission rate\\n%s\" % TITLE);"
     ],
     "language": "python",
     "metadata": {},
     "outputs": []
    },
    {
     "cell_type": "code",
     "collapsed": false,
     "input": [
      "# plt.show()"
     ],
     "language": "python",
     "metadata": {},
     "outputs": []
    },
    {
     "cell_type": "code",
     "collapsed": false,
     "input": [
      "plt.savefig('/home/tribhu/Dropbox/Development/ETH/pml/graphs/%s.png' % (fig_name))"
     ],
     "language": "python",
     "metadata": {},
     "outputs": []
    },
    {
     "cell_type": "code",
     "collapsed": false,
     "input": [
      "plt.show()"
     ],
     "language": "python",
     "metadata": {},
     "outputs": []
    },
    {
     "cell_type": "code",
     "collapsed": false,
     "input": [],
     "language": "python",
     "metadata": {},
     "outputs": []
    }
   ],
   "metadata": {}
  }
 ]
}