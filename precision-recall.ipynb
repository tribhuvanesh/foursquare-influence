{
 "metadata": {
  "name": "",
  "signature": "sha256:290cb920a9db83902f7b25036893777145b42286b48736e0f9712d5965c66006"
 },
 "nbformat": 3,
 "nbformat_minor": 0,
 "worksheets": [
  {
   "cells": [
    {
     "cell_type": "code",
     "collapsed": false,
     "input": [
      "import matplotlib.pyplot as plt"
     ],
     "language": "python",
     "metadata": {},
     "outputs": [],
     "prompt_number": 2
    },
    {
     "cell_type": "code",
     "collapsed": false,
     "input": [
      "import networkx as nx"
     ],
     "language": "python",
     "metadata": {},
     "outputs": [],
     "prompt_number": 5
    },
    {
     "cell_type": "code",
     "collapsed": false,
     "input": [
      "import numpy as np"
     ],
     "language": "python",
     "metadata": {},
     "outputs": [],
     "prompt_number": 53
    },
    {
     "cell_type": "code",
     "collapsed": false,
     "input": [
      "# Expects both files to contain csv in the following format - source,target,weight,...\n",
      "fname_output= 'synthetic/synth-cascades-7/synth-cascades-7-output-at-181.txt'\n",
      "fname_ground_truth = 'synthetic/synth-cascades-7/ground_truth_fixed.txt'"
     ],
     "language": "python",
     "metadata": {},
     "outputs": [],
     "prompt_number": 61
    },
    {
     "cell_type": "code",
     "collapsed": false,
     "input": [
      "f_output = open(fname_output, 'r')\n",
      "f_ground = open(fname_ground_truth, 'r')"
     ],
     "language": "python",
     "metadata": {},
     "outputs": [],
     "prompt_number": 62
    },
    {
     "cell_type": "code",
     "collapsed": false,
     "input": [
      "added_nodes_output = set()\n",
      "added_nodes_ground = set()"
     ],
     "language": "python",
     "metadata": {},
     "outputs": [],
     "prompt_number": 63
    },
    {
     "cell_type": "code",
     "collapsed": false,
     "input": [
      "G_output = nx.DiGraph()\n",
      "G_ground = nx.DiGraph()"
     ],
     "language": "python",
     "metadata": {},
     "outputs": [],
     "prompt_number": 64
    },
    {
     "cell_type": "code",
     "collapsed": false,
     "input": [
      "for line in f_output:\n",
      "    try:\n",
      "        vals = line[:-1].split(',')\n",
      "        u1, u2 = map(int, vals[:2])\n",
      "        weight = float(vals[2])\n",
      "        for u in [u1, u2]:\n",
      "            if u not in added_nodes_output:\n",
      "                added_nodes_output.add(u)\n",
      "                G_output.add_node(u)\n",
      "        G_output.add_edge(u1, u2, weight=weight)\n",
      "    except ValueError:\n",
      "        print line"
     ],
     "language": "python",
     "metadata": {},
     "outputs": [],
     "prompt_number": 65
    },
    {
     "cell_type": "code",
     "collapsed": false,
     "input": [
      "for line in f_ground:\n",
      "    try:\n",
      "        vals = line[:-1].split(',')\n",
      "        u1, u2 = map(int, vals[:2])\n",
      "        weight = float(vals[2])\n",
      "        for u in [u1, u2]:\n",
      "            if u not in added_nodes_ground:\n",
      "                added_nodes_ground.add(u)\n",
      "                G_ground.add_node(u)\n",
      "        G_ground.add_edge(u1, u2, weight=weight)\n",
      "    except ValueError:\n",
      "        print line"
     ],
     "language": "python",
     "metadata": {},
     "outputs": [],
     "prompt_number": 66
    },
    {
     "cell_type": "code",
     "collapsed": false,
     "input": [
      "edges_output = set([(u, v) for u,v,d in G_output.edges(data=True)])\n",
      "edges_ground = set([(u, v) for u,v,d in G_ground.edges(data=True)])"
     ],
     "language": "python",
     "metadata": {},
     "outputs": [],
     "prompt_number": 67
    },
    {
     "cell_type": "code",
     "collapsed": false,
     "input": [
      "tp_set = edges_output.intersection(edges_ground)\n",
      "fp_set = edges_output - tp_set\n",
      "fn_set = edges_ground - tp_set\n",
      "\n",
      "tp = len(tp_set)\n",
      "fp = len(fp_set)\n",
      "fn = len(fn_set)\n",
      "\n",
      "precision = tp / float(tp + fp)\n",
      "recall = tp / float(tp + fn)\n",
      "f1_score = (2 * precision * recall) / (precision + recall)\n",
      "\n",
      "mse = np.mean([np.square(G_ground[u][v]['weight'] - G_output[u][v]['weight']) for u,v in tp_set])"
     ],
     "language": "python",
     "metadata": {},
     "outputs": [],
     "prompt_number": 68
    },
    {
     "cell_type": "code",
     "collapsed": false,
     "input": [
      "# Print stats\n",
      "print '-----Output-----'\n",
      "print 'Number of nodes: ', len(added_nodes_output)\n",
      "print 'Number of edges: ', len(edges_output)\n",
      "\n",
      "print '-----Ground truth-----'\n",
      "print 'Number of nodes: ', len(added_nodes_ground)\n",
      "print 'Number of edges: ', len(edges_ground)\n",
      "\n",
      "print '-----Stats for edges-----'\n",
      "print 'True Positives: ', tp\n",
      "print 'False Positives: ', fp\n",
      "print 'False Negatives: ', fn\n",
      "print 'Precision: ', precision\n",
      "print 'Recall: ', recall\n",
      "print 'F1 score: ', f1_score\n",
      "print 'Mean Square Error: ', mse"
     ],
     "language": "python",
     "metadata": {},
     "outputs": [
      {
       "output_type": "stream",
       "stream": "stdout",
       "text": [
        "-----Output-----\n",
        "Number of nodes:  86\n",
        "Number of edges:  233\n",
        "-----Ground truth-----\n",
        "Number of nodes:  94\n",
        "Number of edges:  898\n",
        "-----Stats for edges-----\n",
        "True Positives:  125\n",
        "False Positives:  108\n",
        "False Negatives:  773\n",
        "Precision:  0.536480686695\n",
        "Recall:  0.139198218263\n",
        "F1 score:  0.221043324492\n",
        "Mean Square Error:  0.351773592633\n"
       ]
      }
     ],
     "prompt_number": 69
    },
    {
     "cell_type": "code",
     "collapsed": false,
     "input": [
      "[np.square(G_ground[u][v]['weight'] - G_output[u][v]['weight']) for u,v in tp_set]"
     ],
     "language": "python",
     "metadata": {},
     "outputs": [
      {
       "metadata": {},
       "output_type": "pyout",
       "prompt_number": 54,
       "text": [
        "[0.53292482028900001,\n",
        " 0.29214673603599994,\n",
        " 3.0685895241210006,\n",
        " 1.039459772521,\n",
        " 7.2253439999999784e-06,\n",
        " 0.10677079056399999,\n",
        " 1.1203862612890001,\n",
        " 0.011962890625,\n",
        " 0.00027070120899999985,\n",
        " 0.0050572009959999973,\n",
        " 0.98035147612899998,\n",
        " 0.26659976688899995,\n",
        " 1.3372031406249998,\n",
        " 0.79159989896100003,\n",
        " 2.7353223621610003,\n",
        " 0.34560054288399999,\n",
        " 0.54733807132900014,\n",
        " 0.66299980550400017,\n",
        " 1.4378000408889997,\n",
        " 1.0287618898410003,\n",
        " 2.0140264588959997,\n",
        " 2.6300017059840002,\n",
        " 1.1502176403239999,\n",
        " 0.035975846929000015,\n",
        " 6.6113160999999989e-05,\n",
        " 1.537143713856,\n",
        " 0.83742631210000018,\n",
        " 0.45799191600100014,\n",
        " 0.11264816816100001]"
       ]
      }
     ],
     "prompt_number": 54
    },
    {
     "cell_type": "code",
     "collapsed": false,
     "input": [],
     "language": "python",
     "metadata": {},
     "outputs": []
    }
   ],
   "metadata": {}
  }
 ]
}